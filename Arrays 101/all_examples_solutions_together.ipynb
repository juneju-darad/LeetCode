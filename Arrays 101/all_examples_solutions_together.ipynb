{
 "cells": [
  {
   "cell_type": "markdown",
   "id": "processed-stations",
   "metadata": {
    "heading_collapsed": true
   },
   "source": [
    "### Introduction"
   ]
  },
  {
   "cell_type": "markdown",
   "id": "employed-nudist",
   "metadata": {
    "code_folding": [],
    "hidden": true
   },
   "source": [
    "#### What Is an Array?"
   ]
  },
  {
   "cell_type": "code",
   "execution_count": 15,
   "id": "inner-suffering",
   "metadata": {
    "hidden": true
   },
   "outputs": [],
   "source": [
    "# DVD Class\n",
    "class DVD:\n",
    "    def __init__(self, name, releaseYear, director):\n",
    "        self.name        = name\n",
    "        self.releaseYear = releaseYear\n",
    "        self. director   = director\n",
    "        \n",
    "    def get_data(self):\n",
    "        print(f'{self.name}, directed by {self.director}, released in {self.releaseYear}')\n",
    "\n",
    "# creating an Array(dynamic) of size 15 to hold DVD's.\n",
    "dvdCollection = [None] * 15"
   ]
  },
  {
   "cell_type": "markdown",
   "id": "understanding-fishing",
   "metadata": {
    "hidden": true
   },
   "source": [
    "#### Accessing Elements in Arrays"
   ]
  },
  {
   "cell_type": "code",
   "execution_count": 16,
   "id": "advised-prairie",
   "metadata": {
    "hidden": true,
    "scrolled": true
   },
   "outputs": [],
   "source": [
    "# Firstly, we need to actually create a DVD object for The Avengers.\n",
    "avengersDVD = DVD(\"The Avengers\",2012,\"Joss Whedon\")\n",
    "\n",
    "# Next, we'll put it into the 8th place of the Array. Remember, because we\n",
    "# started numbering from 0, the index we want is 7.\n",
    "dvdCollection[7] = avengersDVD"
   ]
  },
  {
   "cell_type": "code",
   "execution_count": 17,
   "id": "computational-syracuse",
   "metadata": {
    "hidden": true
   },
   "outputs": [],
   "source": [
    "# Let's put a few more DVD's in\n",
    "incrediblesDVD = DVD(\"The Incredibles\",2004,\"Brad Bird\")\n",
    "findingDoryDVD = DVD(\"Finding Dory\",2016,\"Andrew Stanton\")\n",
    "lionKingDVD = DVD(\"The Lion King\",2019,\"Jon Favreau\")\n",
    "\n",
    "# Put \"The Incredibles\" into the 4th place: index 3.\n",
    "dvdCollection[3] = incrediblesDVD;\n",
    "\n",
    "# Put \"Finding Dory\" into the 10th place: index 9.\n",
    "dvdCollection[9] = findingDoryDVD;\n",
    "\n",
    "# Put \"The Lion King\" into the 3rd place: index 2.\n",
    "dvdCollection[2] = lionKingDVD;"
   ]
  },
  {
   "cell_type": "code",
   "execution_count": 18,
   "id": "valid-carbon",
   "metadata": {
    "hidden": true
   },
   "outputs": [],
   "source": [
    "starWarsDVD = DVD(\"Star Wars\",1977,\"George Lucas\")\n",
    "dvdCollection[3] = starWarsDVD;"
   ]
  },
  {
   "cell_type": "code",
   "execution_count": 19,
   "id": "nonprofit-kidney",
   "metadata": {
    "hidden": true
   },
   "outputs": [
    {
     "name": "stdout",
     "output_type": "stream",
     "text": [
      "The Avengers, directed by Joss Whedon, released in 2012\n",
      "None\n",
      "Star Wars, directed by George Lucas, released in 1977\n"
     ]
    }
   ],
   "source": [
    "# Reading Items from an Array\n",
    "# Print out what's in indexes 7, 10, and 3.\n",
    "dvdCollection[7].get_data()\n",
    "print(dvdCollection[10])\n",
    "dvdCollection[3].get_data()"
   ]
  },
  {
   "cell_type": "code",
   "execution_count": 20,
   "id": "meaningful-vertical",
   "metadata": {
    "hidden": true
   },
   "outputs": [
    {
     "name": "stdout",
     "output_type": "stream",
     "text": [
      "1\n",
      "4\n",
      "9\n",
      "16\n",
      "25\n",
      "36\n",
      "49\n",
      "64\n",
      "81\n",
      "100\n"
     ]
    }
   ],
   "source": [
    "# Writing Items into an Array with a Loop\n",
    "# Go through each of the Array indexes, from 0 to 9.\n",
    "squareNumbers = [None] * 10\n",
    "# squareNumbers = [] ---> python style: can grows on demand\n",
    "for i in range(10):\n",
    "    squareNumbers[i] = (i+1) * (i+1)\n",
    "    # squareNumbers.append((i+1) * (i+1)) ---> python style\n",
    "\n",
    "# Reading Items from an Array with a Loop\n",
    "for i in range(10):\n",
    "    print(squareNumbers[i])"
   ]
  },
  {
   "cell_type": "markdown",
   "id": "marked-swiss",
   "metadata": {
    "hidden": true
   },
   "source": [
    "#### Array Capacity VS Length"
   ]
  },
  {
   "cell_type": "code",
   "execution_count": 21,
   "id": "rising-testament",
   "metadata": {
    "hidden": true
   },
   "outputs": [
    {
     "name": "stdout",
     "output_type": "stream",
     "text": [
      "The Array has a capacity of 10\n"
     ]
    }
   ],
   "source": [
    "capacity = len(squareNumbers)\n",
    "print(f\"The Array has a capacity of {capacity}\")"
   ]
  },
  {
   "cell_type": "code",
   "execution_count": 22,
   "id": "continuing-breakfast",
   "metadata": {
    "hidden": true
   },
   "outputs": [
    {
     "name": "stdout",
     "output_type": "stream",
     "text": [
      "The Array has a capacity of 6\n",
      "The Array has a length of 3\n"
     ]
    }
   ],
   "source": [
    "# Array Length\n",
    "# Create a new array with a capacity of 6.\n",
    "array = [None] * 6;\n",
    "\n",
    "# Current length is 0, because it has 0 elements.\n",
    "length = 0;\n",
    "\n",
    "# Add 3 items into it.\n",
    "for i in range(3): \n",
    "    array[i] = i * i\n",
    "    # Each time we add an element, the length goes up by one.\n",
    "    length+=1\n",
    "\n",
    "print(f\"The Array has a capacity of {len(array)}\")\n",
    "print(f\"The Array has a length of {length}\")"
   ]
  },
  {
   "cell_type": "markdown",
   "id": "described-gazette",
   "metadata": {
    "hidden": true
   },
   "source": [
    "#### Max Consecutive Ones"
   ]
  },
  {
   "cell_type": "code",
   "execution_count": 33,
   "id": "tracked-intellectual",
   "metadata": {
    "hidden": true
   },
   "outputs": [],
   "source": [
    "class Solution:\n",
    "    def findMaxConsecutiveOnes(self, nums:list) -> int:\n",
    "        count = 0\n",
    "        ans = 0\n",
    "        for num in nums:\n",
    "            if num == 1:\n",
    "                count+=1\n",
    "                ans = max(ans, count)\n",
    "            else:\n",
    "                count = 0\n",
    "        return ans"
   ]
  },
  {
   "cell_type": "code",
   "execution_count": 48,
   "id": "biological-remains",
   "metadata": {
    "hidden": true
   },
   "outputs": [
    {
     "name": "stdout",
     "output_type": "stream",
     "text": [
      "3\n"
     ]
    }
   ],
   "source": [
    "if __name__ == '__main__':\n",
    "    nums = [1,1,0,1,1,1]\n",
    "    obj = Solution()\n",
    "    print(obj.findMaxConsecutiveOnes(nums))"
   ]
  },
  {
   "cell_type": "markdown",
   "id": "patent-works",
   "metadata": {
    "hidden": true
   },
   "source": [
    "#### Find Numbers with Even Number of Digits"
   ]
  },
  {
   "cell_type": "code",
   "execution_count": 222,
   "id": "apart-seafood",
   "metadata": {
    "hidden": true
   },
   "outputs": [],
   "source": [
    "class Solution:\n",
    "    def findNumbers(self, nums: list) -> int:\n",
    "        count = 0\n",
    "        for num in nums:\n",
    "            if len(str(num))%2 == 0:\n",
    "                count += 1\n",
    "        return count\n",
    "# O(n^2)\n",
    "# class Solution:\n",
    "#     def findNumbers(self, nums: list) -> int:\n",
    "#         count = 0\n",
    "#         ans = 0\n",
    "#         for num in nums:\n",
    "#             while num != 0:\n",
    "#                 num = int(num/10)\n",
    "#                 count += 1\n",
    "#             if count%2 == 0:\n",
    "#                 ans += 1\n",
    "#         return ans"
   ]
  },
  {
   "cell_type": "code",
   "execution_count": 223,
   "id": "approved-boundary",
   "metadata": {
    "hidden": true
   },
   "outputs": [
    {
     "name": "stdout",
     "output_type": "stream",
     "text": [
      "2\n"
     ]
    }
   ],
   "source": [
    "if __name__ == '__main__':\n",
    "    nums = [12,345,2,6,7896]\n",
    "    obj = Solution()\n",
    "    print(obj.findNumbers(nums))"
   ]
  },
  {
   "cell_type": "markdown",
   "id": "naked-cherry",
   "metadata": {
    "hidden": true
   },
   "source": [
    "#### Squares of a Sorted Array"
   ]
  },
  {
   "cell_type": "code",
   "execution_count": 90,
   "id": "criminal-occasions",
   "metadata": {
    "hidden": true
   },
   "outputs": [],
   "source": [
    "class Solution:\n",
    "    def sortedSquares(self, nums: list) -> list:\n",
    "        for index in range(len(nums)):\n",
    "            nums[index] = nums[index] ** 2\n",
    "        nums.sort()\n",
    "        return nums\n",
    "# higher space complexity\n",
    "# class Solution:\n",
    "#     def sortedSquares(self, nums: list) -> list:\n",
    "#         squired_array = []\n",
    "#         for num in nums:\n",
    "#             squired_array.append(num*num)\n",
    "#         return sorted(squired_array, reverse=False)"
   ]
  },
  {
   "cell_type": "code",
   "execution_count": 91,
   "id": "knowing-stack",
   "metadata": {
    "hidden": true
   },
   "outputs": [
    {
     "name": "stdout",
     "output_type": "stream",
     "text": [
      "[4, 9, 9, 49, 121]\n"
     ]
    }
   ],
   "source": [
    "if __name__ == '__main__':\n",
    "    nums = [-7,-3,2,3,11]\n",
    "    obj = Solution()\n",
    "    print(obj.sortedSquares(nums))"
   ]
  },
  {
   "cell_type": "markdown",
   "id": "surprising-savage",
   "metadata": {
    "heading_collapsed": true
   },
   "source": [
    "### Inserting Items Into an Array"
   ]
  },
  {
   "cell_type": "markdown",
   "id": "satellite-brand",
   "metadata": {
    "hidden": true
   },
   "source": [
    "#### Array Insertions"
   ]
  },
  {
   "cell_type": "code",
   "execution_count": 109,
   "id": "adjustable-belle",
   "metadata": {
    "hidden": true
   },
   "outputs": [
    {
     "name": "stdout",
     "output_type": "stream",
     "text": [
      "Index 0 contains 0\n",
      "Index 1 contains 1\n",
      "Index 2 contains 2\n",
      "Index 3 contains None\n",
      "Index 4 contains None\n",
      "Index 5 contains None\n"
     ]
    }
   ],
   "source": [
    "# Declare an integer array of 6 elements\n",
    "intArray = [None] * 6\n",
    "length = 0\n",
    "\n",
    "for index in range(3):\n",
    "    intArray[index] = index\n",
    "    length+=1\n",
    "\n",
    "# visualise what's happening\n",
    "for index in range(len(intArray)):\n",
    "    print(f'Index {index} contains {intArray[index]}')"
   ]
  },
  {
   "cell_type": "code",
   "execution_count": 110,
   "id": "removable-restaurant",
   "metadata": {
    "hidden": true
   },
   "outputs": [
    {
     "name": "stdout",
     "output_type": "stream",
     "text": [
      "Index 0 contains 0\n",
      "Index 1 contains 1\n",
      "Index 2 contains 2\n",
      "Index 3 contains 10\n",
      "Index 4 contains None\n",
      "Index 5 contains None\n"
     ]
    }
   ],
   "source": [
    "# Insert a new element at the end of the Array. Again,\n",
    "# it's important to ensure that there is enough space\n",
    "# in the array for inserting a new element.\n",
    "intArray[length] = 10\n",
    "length+=1\n",
    "\n",
    "# print the array\n",
    "for index in range(len(intArray)):\n",
    "    print(f'Index {index} contains {intArray[index]}')"
   ]
  },
  {
   "cell_type": "markdown",
   "id": "informed-fifteen",
   "metadata": {
    "hidden": true
   },
   "source": [
    "#### Inserting at the Start of an Array"
   ]
  },
  {
   "cell_type": "code",
   "execution_count": 111,
   "id": "painted-asbestos",
   "metadata": {
    "hidden": true
   },
   "outputs": [
    {
     "name": "stdout",
     "output_type": "stream",
     "text": [
      "Index 0 contains 20\n",
      "Index 1 contains 0\n",
      "Index 2 contains 1\n",
      "Index 3 contains 2\n",
      "Index 4 contains 10\n",
      "Index 5 contains None\n"
     ]
    }
   ],
   "source": [
    "# First, we will have to create space for a new element.\n",
    "# We do that by shifting each element one index to the right.\n",
    "# This will firstly move the element at index 3, then 2, then 1, then finally 0.\n",
    "# We need to go backwards to avoid overwriting any elements.\n",
    "for index in range(3,-1,-1):\n",
    "     intArray[index + 1] = intArray[index]\n",
    "        \n",
    "# Now that we have created space for the new element,\n",
    "# we can insert it at the beginning.\n",
    "intArray[0] = 20\n",
    "\n",
    "# print the array\n",
    "for index in range(len(intArray)):\n",
    "    print(f'Index {index} contains {intArray[index]}')"
   ]
  },
  {
   "cell_type": "markdown",
   "id": "dedicated-coral",
   "metadata": {
    "heading_collapsed": true,
    "hidden": true
   },
   "source": [
    "#### Inserting Anywhere in the Array"
   ]
  },
  {
   "cell_type": "code",
   "execution_count": 113,
   "id": "aggressive-dance",
   "metadata": {
    "hidden": true
   },
   "outputs": [
    {
     "name": "stdout",
     "output_type": "stream",
     "text": [
      "Index 0 contains 20\n",
      "Index 1 contains 0\n",
      "Index 2 contains 30\n",
      "Index 3 contains 1\n",
      "Index 4 contains 2\n",
      "Index 5 contains 10\n"
     ]
    }
   ],
   "source": [
    "# Say we want to insert the element at index 2.\n",
    "# First, we will have to create space for the new element.\n",
    "for index in range(4,1,-1):\n",
    "     intArray[index + 1] = intArray[index]\n",
    "\n",
    "# Now that we have created space for the new element,\n",
    "# we can insert it at the required index.\n",
    "intArray[2] = 30\n",
    "\n",
    "# print the array\n",
    "for index in range(len(intArray)):\n",
    "    print(f'Index {index} contains {intArray[index]}')"
   ]
  },
  {
   "cell_type": "markdown",
   "id": "extended-confirmation",
   "metadata": {
    "heading_collapsed": true,
    "hidden": true
   },
   "source": [
    "#### Duplicate Zeros"
   ]
  },
  {
   "cell_type": "code",
   "execution_count": 141,
   "id": "engaged-instruction",
   "metadata": {
    "hidden": true
   },
   "outputs": [],
   "source": [
    "class Solution:\n",
    "    def duplicateZeros(self, arr: list) -> None:\n",
    "        \"\"\"\n",
    "        Do not return anything, modify arr in-place instead.\n",
    "        \"\"\"\n",
    "        index = 0\n",
    "        while index < len(arr):\n",
    "            if arr[index] == 0:\n",
    "                arr.insert(index+1,0)\n",
    "                arr.pop()\n",
    "                index += 2\n",
    "            else:\n",
    "                index += 1"
   ]
  },
  {
   "cell_type": "code",
   "execution_count": 142,
   "id": "municipal-strip",
   "metadata": {
    "hidden": true
   },
   "outputs": [
    {
     "name": "stdout",
     "output_type": "stream",
     "text": [
      "[1, 0, 0, 2, 3, 0, 0, 4]\n"
     ]
    }
   ],
   "source": [
    "if __name__ == '__main__':\n",
    "    arr = [1,0,2,3,0,4,5,0]\n",
    "    obj = Solution()\n",
    "    obj.duplicateZeros(arr)\n",
    "    print(arr)"
   ]
  },
  {
   "cell_type": "markdown",
   "id": "wrapped-swimming",
   "metadata": {
    "hidden": true
   },
   "source": [
    "#### Merge Sorted Array"
   ]
  },
  {
   "cell_type": "code",
   "execution_count": 226,
   "id": "bizarre-constitution",
   "metadata": {
    "hidden": true
   },
   "outputs": [],
   "source": [
    "class Solution:\n",
    "    def merge(self, nums1: list, m: int, nums2: list, n: int) -> None:\n",
    "        \"\"\"\n",
    "        Do not return anything, modify nums1 in-place instead.\n",
    "        \"\"\"\n",
    "        nums1[m:] = nums2[:]\n",
    "        nums1.sort()\n"
   ]
  },
  {
   "cell_type": "code",
   "execution_count": 228,
   "id": "personal-alexander",
   "metadata": {
    "hidden": true
   },
   "outputs": [
    {
     "name": "stdout",
     "output_type": "stream",
     "text": [
      "[1, 2, 2, 3, 5, 6]\n"
     ]
    }
   ],
   "source": [
    "if __name__ == '__main__':\n",
    "    nums1 = [1,2,3,0,0,0]\n",
    "    m = 3\n",
    "    nums2 = [2,5,6]\n",
    "    n = 3\n",
    "    obj = Solution()\n",
    "    obj.merge(nums1,m,nums2,n)\n",
    "    print(nums1)"
   ]
  },
  {
   "cell_type": "markdown",
   "id": "rotary-mercy",
   "metadata": {},
   "source": [
    "### Deleting Items From an Array"
   ]
  },
  {
   "cell_type": "markdown",
   "id": "ongoing-lightweight",
   "metadata": {
    "heading_collapsed": true
   },
   "source": [
    "#### Array Deletions"
   ]
  },
  {
   "cell_type": "code",
   "execution_count": 252,
   "id": "pleasant-investigation",
   "metadata": {
    "hidden": true
   },
   "outputs": [],
   "source": [
    "# Declare an integer array of 10 elements.\n",
    "intArray = [None] * 10\n",
    "\n",
    "# The array currently contains 0 elements\n",
    "length = 0\n",
    "\n",
    "# Add elements at the first 6 indexes of the Array.\n",
    "for index in range(6):\n",
    "    intArray[length] = index\n",
    "    length+=1"
   ]
  },
  {
   "cell_type": "code",
   "execution_count": 253,
   "id": "eight-decade",
   "metadata": {
    "hidden": true
   },
   "outputs": [],
   "source": [
    "# Deletion from the end is as simple as reducing the length\n",
    "# of the array by 1.\n",
    "length-=1"
   ]
  },
  {
   "cell_type": "code",
   "execution_count": 254,
   "id": "determined-clock",
   "metadata": {
    "hidden": true
   },
   "outputs": [
    {
     "name": "stdout",
     "output_type": "stream",
     "text": [
      "Index 0 contains 0\n",
      "Index 1 contains 1\n",
      "Index 2 contains 2\n",
      "Index 3 contains 3\n",
      "Index 4 contains 4\n",
      "Index 5 contains 5\n",
      "Index 6 contains None\n",
      "Index 7 contains None\n",
      "Index 8 contains None\n",
      "Index 9 contains None\n"
     ]
    }
   ],
   "source": [
    "# print\n",
    "for index in range(len(intArray)):\n",
    "    print(f'Index {index} contains {intArray[index]}')"
   ]
  },
  {
   "cell_type": "code",
   "execution_count": 256,
   "id": "hungarian-cisco",
   "metadata": {
    "hidden": true
   },
   "outputs": [
    {
     "name": "stdout",
     "output_type": "stream",
     "text": [
      "Index 0 contains 0\n",
      "Index 1 contains 1\n",
      "Index 2 contains 2\n",
      "Index 3 contains 3\n",
      "Index 4 contains 4\n",
      "Index 5 contains 5\n"
     ]
    }
   ],
   "source": [
    "# before the deletion\n",
    "for index in range(length+1):\n",
    "    print(f'Index {index} contains {intArray[index]}')"
   ]
  },
  {
   "cell_type": "code",
   "execution_count": 257,
   "id": "running-graham",
   "metadata": {
    "hidden": true
   },
   "outputs": [
    {
     "name": "stdout",
     "output_type": "stream",
     "text": [
      "Index 0 contains 0\n",
      "Index 1 contains 1\n",
      "Index 2 contains 2\n",
      "Index 3 contains 3\n",
      "Index 4 contains 4\n"
     ]
    }
   ],
   "source": [
    "# after the deletion\n",
    "for index in range(length):\n",
    "    print(f'Index {index} contains {intArray[index]}')"
   ]
  },
  {
   "cell_type": "markdown",
   "id": "important-corporation",
   "metadata": {
    "heading_collapsed": true
   },
   "source": [
    "#### Deleting From the Start of an Array"
   ]
  },
  {
   "cell_type": "code",
   "execution_count": 261,
   "id": "homeless-adobe",
   "metadata": {
    "hidden": true
   },
   "outputs": [],
   "source": [
    "# to the left.\n",
    "for i in range(1,length):\n",
    "    # shift each element one position to the left\n",
    "    intArray[i - 1] = intArray[i]\n",
    "\n",
    "# Note that it's important to reduce the length of the array by 1.\n",
    "# Otherwise, we'll lose consistency of the size. This length\n",
    "# variable is the only thing controlling where new elements might\n",
    "# get added.\n",
    "length-=1"
   ]
  },
  {
   "cell_type": "code",
   "execution_count": 262,
   "id": "premium-generator",
   "metadata": {
    "hidden": true
   },
   "outputs": [
    {
     "name": "stdout",
     "output_type": "stream",
     "text": [
      "Index 0 contains 1\n",
      "Index 1 contains 2\n",
      "Index 2 contains 3\n",
      "Index 3 contains 4\n"
     ]
    }
   ],
   "source": [
    "# print\n",
    "for index in range(length):\n",
    "    print(f'Index {index} contains {intArray[index]}')"
   ]
  },
  {
   "cell_type": "markdown",
   "id": "serial-springer",
   "metadata": {
    "heading_collapsed": true
   },
   "source": [
    "#### Deleting From Anywhere in the Array"
   ]
  },
  {
   "cell_type": "code",
   "execution_count": 265,
   "id": "filled-representative",
   "metadata": {
    "hidden": true
   },
   "outputs": [],
   "source": [
    "# // Say we want to delete the element at index 1\n",
    "for i in range(2,length):\n",
    "    # Shift each element one position to the left\n",
    "    intArray[i - 1] = intArray[i]\n",
    "\n",
    "# Again, the length needs to be consistent with the current\n",
    "# state of the array.\n",
    "length-=1"
   ]
  },
  {
   "cell_type": "code",
   "execution_count": 266,
   "id": "hollywood-response",
   "metadata": {
    "hidden": true
   },
   "outputs": [
    {
     "name": "stdout",
     "output_type": "stream",
     "text": [
      "Index 0 contains 1\n",
      "Index 1 contains 3\n",
      "Index 2 contains 4\n"
     ]
    }
   ],
   "source": [
    "# print\n",
    "for index in range(length):\n",
    "    print(f'Index {index} contains {intArray[index]}')"
   ]
  },
  {
   "cell_type": "markdown",
   "id": "indonesian-approach",
   "metadata": {
    "heading_collapsed": true
   },
   "source": [
    "#### Remove Element"
   ]
  },
  {
   "cell_type": "code",
   "execution_count": 353,
   "id": "introductory-injury",
   "metadata": {
    "hidden": true
   },
   "outputs": [],
   "source": [
    "class Solution:\n",
    "    def removeElement(self, nums: list, val: int) -> int:\n",
    "        while val in nums:\n",
    "            nums.remove(val)\n",
    "        return len(nums)\n",
    "# class Solution:\n",
    "#     def removeElement(self, nums: list, val: int) -> int:\n",
    "#         k = 0\n",
    "#         index = 0\n",
    "#         while index < len(nums):\n",
    "#             if nums[index] == val:\n",
    "#                 nums.append('_')\n",
    "#                 nums.remove(val)\n",
    "#                 index -= 1\n",
    "#                 k += 1\n",
    "#             else:\n",
    "#                 index += 1              \n",
    "#         return len(nums)-k"
   ]
  },
  {
   "cell_type": "code",
   "execution_count": 354,
   "id": "mighty-reynolds",
   "metadata": {
    "hidden": true
   },
   "outputs": [
    {
     "name": "stdout",
     "output_type": "stream",
     "text": [
      "5 , nums = [0, 1, 3, 0, 4]\n"
     ]
    }
   ],
   "source": [
    "if __name__ == '__main__':\n",
    "    nums = [0,1,2,2,3,0,4,2]\n",
    "    val = 2\n",
    "    obj = Solution()\n",
    "    print(obj.removeElement(nums,val),\", nums =\",nums)"
   ]
  },
  {
   "cell_type": "markdown",
   "id": "sized-colleague",
   "metadata": {},
   "source": [
    "#### Remove Duplicates from Sorted Array"
   ]
  },
  {
   "cell_type": "code",
   "execution_count": 370,
   "id": "loving-handy",
   "metadata": {},
   "outputs": [],
   "source": [
    "class Solution:\n",
    "    def removeDuplicates(self, nums: list) -> int:\n",
    "        nums[:] = set(nums)\n",
    "        nums.sort()\n",
    "        return len(nums)"
   ]
  },
  {
   "cell_type": "code",
   "execution_count": 371,
   "id": "leading-presence",
   "metadata": {},
   "outputs": [
    {
     "name": "stdout",
     "output_type": "stream",
     "text": [
      "3 , nums = [-1, 0, 3]\n"
     ]
    }
   ],
   "source": [
    "if __name__ == '__main__':\n",
    "    nums = [-1,0,0,0,0,3,3]\n",
    "    obj = Solution()\n",
    "    print(obj.removeDuplicates(nums),\", nums =\",nums)"
   ]
  },
  {
   "cell_type": "markdown",
   "id": "secure-removal",
   "metadata": {},
   "source": [
    "### Searching for items in an Array"
   ]
  },
  {
   "cell_type": "markdown",
   "id": "concrete-nowhere",
   "metadata": {},
   "source": [
    "#### Search in an Array"
   ]
  },
  {
   "cell_type": "code",
   "execution_count": 383,
   "id": "increased-airplane",
   "metadata": {},
   "outputs": [],
   "source": [
    "def linearSearch(array, length, element):\n",
    "    # Check for edge cases. Is the array null or empty?\n",
    "    # If it is, then we return false because the element we're\n",
    "    # searching for couldn't possibly be in it.\n",
    "    if len(array) == 0 or length == 0:\n",
    "        return False\n",
    "    # Carry out the linear search by checking each element,\n",
    "    # starting from the first one.\n",
    "    for index in range(length):\n",
    "        # We found the element at index i.\n",
    "        # So we return true to say it exists.\n",
    "        if array[i] == element:\n",
    "            return True\n",
    "    # We didn't find the element in the array.\n",
    "    return False"
   ]
  },
  {
   "cell_type": "code",
   "execution_count": 384,
   "id": "vital-circus",
   "metadata": {},
   "outputs": [],
   "source": [
    "# Declare a new array of 6 elements\n",
    "array = [None] * 10\n",
    "# Variable to keep track of the length of the array\n",
    "length = 0\n",
    "# Iterate through the 6 indexes of the Array\n",
    "for i in range(6):\n",
    "    # Add a new element and increment the length as well\n",
    "    length+=1\n",
    "    array[length] = i"
   ]
  },
  {
   "cell_type": "code",
   "execution_count": 388,
   "id": "aquatic-wilderness",
   "metadata": {},
   "outputs": [
    {
     "name": "stdout",
     "output_type": "stream",
     "text": [
      "Does the array contain the element 4? - True\n",
      "Does the array contain the element 30? - False\n"
     ]
    }
   ],
   "source": [
    "# Print out the results of searching for 4 and 30.\n",
    "print(f'Does the array contain the element 4? - {linearSearch(array,length,4)}')\n",
    "print(f'Does the array contain the element 30? - {linearSearch(array,length,30)}')"
   ]
  },
  {
   "cell_type": "markdown",
   "id": "distant-differential",
   "metadata": {},
   "source": [
    "#### Check If N and Its Double Exist"
   ]
  },
  {
   "cell_type": "code",
   "execution_count": 404,
   "id": "republican-radiation",
   "metadata": {},
   "outputs": [
    {
     "name": "stdout",
     "output_type": "stream",
     "text": [
      "F\n",
      "F\n",
      "true\n",
      "F\n"
     ]
    }
   ],
   "source": []
  },
  {
   "cell_type": "code",
   "execution_count": 446,
   "id": "damaged-medicaid",
   "metadata": {},
   "outputs": [],
   "source": [
    "class Solution:\n",
    "    def checkIfExist(self, arr: list) -> bool:\n",
    "        for a in arr:\n",
    "            if a*2 in arr and a != 0:\n",
    "                return True\n",
    "            elif arr.count(0) == 2:\n",
    "                return True \n",
    "        return False"
   ]
  },
  {
   "cell_type": "code",
   "execution_count": 451,
   "id": "right-transformation",
   "metadata": {},
   "outputs": [
    {
     "name": "stdout",
     "output_type": "stream",
     "text": [
      "True\n"
     ]
    }
   ],
   "source": [
    "if __name__ == '__main__':\n",
    "    arr = [10,2,5,3]\n",
    "    obj = Solution()\n",
    "    print(obj.checkIfExist(arr))"
   ]
  },
  {
   "cell_type": "markdown",
   "id": "conceptual-sapphire",
   "metadata": {},
   "source": [
    "#### Valid Mountain Array"
   ]
  },
  {
   "cell_type": "code",
   "execution_count": 499,
   "id": "cosmetic-dancing",
   "metadata": {},
   "outputs": [],
   "source": [
    "\n",
    "# class Solution:\n",
    "#     def validMountainArray(self, arr: list) -> bool:\n",
    "#         half_length = int(len(arr)/2)\n",
    "#         if len(arr) >2 and len(arr[:half_length]) == len(set(arr[:half_length])) and len(arr[half_length:]) == len(set(arr[half_length:])) :\n",
    "#             if sorted(arr[:half_length]) == arr[:half_length] and sorted(arr[half_length:], reverse=True) == arr[half_length:] :\n",
    "#                 return True\n",
    "#         return False\n"
   ]
  },
  {
   "cell_type": "code",
   "execution_count": 502,
   "id": "revised-consumer",
   "metadata": {},
   "outputs": [
    {
     "name": "stdout",
     "output_type": "stream",
     "text": [
      "False\n"
     ]
    }
   ],
   "source": [
    "# if __name__ == '__main__':\n",
    "#     arr = [0,1,2,3,4,8,9,10,11,12,11]\n",
    "#     obj = Solution()\n",
    "#     print(obj.validMountainArray(arr))"
   ]
  },
  {
   "cell_type": "markdown",
   "id": "every-cotton",
   "metadata": {},
   "source": [
    "### In-Place Operations"
   ]
  },
  {
   "cell_type": "markdown",
   "id": "offensive-turner",
   "metadata": {},
   "source": [
    "#### In-Place Array Operations Introduction"
   ]
  },
  {
   "cell_type": "code",
   "execution_count": 564,
   "id": "dying-might",
   "metadata": {},
   "outputs": [
    {
     "name": "stdout",
     "output_type": "stream",
     "text": [
      "false\n"
     ]
    }
   ],
   "source": [
    "def squareEven(array, length):\n",
    "    \n",
    "    # Check for edge cases.\n",
    "    if (array == None):\n",
    "    return None\n",
    "\n",
    "    # Create a resultant Array which would hold the result.\n",
    "    result = [None] * length\n",
    "\n",
    "    # Iterate through the original Array.\n",
    "    for i in range(len(array)):\n",
    "        # Get the element from slot i of the input Array.\n",
    "        element = array[i];\n",
    "        # If the index is an even number, then we need to square element.\n",
    "        if i%2 == 0:\n",
    "            element *= element\n",
    "        # Write element into the result Array.\n",
    "        result[i] = element;\n",
    "    # Return the result Array.\n",
    "    return result"
   ]
  },
  {
   "cell_type": "code",
   "execution_count": 567,
   "id": "czech-testimony",
   "metadata": {},
   "outputs": [
    {
     "data": {
      "text/plain": [
       "9"
      ]
     },
     "execution_count": 567,
     "metadata": {},
     "output_type": "execute_result"
    }
   ],
   "source": [
    "def sqsquareEven(array, length):\n",
    "    # Check for edge cases.\n",
    "    if array is None:\n",
    "        return None\n",
    "    \n",
    "    # Iterate through the original Array.\n",
    "    for i in range(len(array)):\n",
    "        # If the index is an even number, then we need to square the element\n",
    "        # and replace the original value in the Array.\n",
    "        if i%2==0:\n",
    "            array[i] = array[i] * array[i]\n",
    "        # Notice how we don't need to do *anything* for the odd indexes? :-)\n",
    "    \n",
    "    # We just return the original array. Some problems on leetcode require you\n",
    "    # to return it, and other's dont.\n",
    "    return array"
   ]
  },
  {
   "cell_type": "markdown",
   "id": "judicial-union",
   "metadata": {},
   "source": [
    "#### Replace Elements with Greatest Element on Right Side"
   ]
  },
  {
   "cell_type": "code",
   "execution_count": 298,
   "id": "cleared-victoria",
   "metadata": {},
   "outputs": [],
   "source": [
    "# In place solution\n",
    "class Solution:\n",
    "    def replaceElements(self, arr: list) -> list:\n",
    "        max_right = 0\n",
    "        for i in range(len(arr)-1):\n",
    "            max_right = max(arr[i+1:])\n",
    "            arr[i] = max_right\n",
    "        arr[-1] = -1\n",
    "        \n",
    "        return arr"
   ]
  },
  {
   "cell_type": "code",
   "execution_count": 299,
   "id": "stuffed-selection",
   "metadata": {},
   "outputs": [
    {
     "name": "stdout",
     "output_type": "stream",
     "text": [
      "[18, 6, 6, 6, 1, -1]\n"
     ]
    }
   ],
   "source": [
    "if __name__ == '__main__':\n",
    "    arr = [17,18,5,4,6,1]\n",
    "    obj = Solution()\n",
    "    print(obj.replaceElements(arr))"
   ]
  },
  {
   "cell_type": "code",
   "execution_count": 300,
   "id": "joint-smile",
   "metadata": {},
   "outputs": [],
   "source": [
    "# NOT in place\n",
    "class Solution:\n",
    "    def replaceElements(self, arr: list) -> list:\n",
    "        result=[]\n",
    "        for i in range(len(arr)-1):\n",
    "            result.append(max(arr[i+1:]))\n",
    "        result.append(-1)\n",
    "        return result"
   ]
  },
  {
   "cell_type": "code",
   "execution_count": 302,
   "id": "written-banks",
   "metadata": {},
   "outputs": [
    {
     "name": "stdout",
     "output_type": "stream",
     "text": [
      "[18, 6, 6, 6, 1, -1]\n"
     ]
    }
   ],
   "source": [
    "if __name__ == '__main__':\n",
    "    arr = [17,18,5,4,6,1]\n",
    "    obj = Solution()\n",
    "    print(obj.replaceElements(arr))"
   ]
  },
  {
   "cell_type": "markdown",
   "id": "public-kuwait",
   "metadata": {
    "heading_collapsed": true
   },
   "source": [
    "#### A Better Repeated Deletion Algorithm - Intro"
   ]
  },
  {
   "cell_type": "code",
   "execution_count": null,
   "id": "former-explosion",
   "metadata": {
    "hidden": true
   },
   "outputs": [],
   "source": []
  },
  {
   "cell_type": "markdown",
   "id": "presidential-engineer",
   "metadata": {},
   "source": [
    "#### Remove Duplicates from Sorted Array"
   ]
  },
  {
   "cell_type": "code",
   "execution_count": 323,
   "id": "silver-invitation",
   "metadata": {},
   "outputs": [],
   "source": [
    "# In place solution\n",
    "class Solution:\n",
    "    def removeDuplicates(self, nums: list) -> int:\n",
    "        nums[:] = set(nums)\n",
    "        nums.sort()\n",
    "        return len(nums)"
   ]
  },
  {
   "cell_type": "code",
   "execution_count": 324,
   "id": "accepting-perfume",
   "metadata": {},
   "outputs": [
    {
     "name": "stdout",
     "output_type": "stream",
     "text": [
      "5\n",
      "[0, 1, 2, 3, 4]\n"
     ]
    }
   ],
   "source": [
    "if __name__ == '__main__':\n",
    "    nums = [0,0,1,1,1,2,2,3,3,4]\n",
    "    obj = Solution()\n",
    "    print(obj.removeDuplicates(nums))\n",
    "    print(nums)"
   ]
  },
  {
   "cell_type": "markdown",
   "id": "certified-running",
   "metadata": {},
   "source": [
    "#### A Better Repeated Deletion Algorithm - Answer"
   ]
  },
  {
   "cell_type": "code",
   "execution_count": null,
   "id": "fabulous-hawaiian",
   "metadata": {},
   "outputs": [],
   "source": []
  },
  {
   "cell_type": "markdown",
   "id": "optical-vaccine",
   "metadata": {},
   "source": [
    "#### Move Zeroes"
   ]
  },
  {
   "cell_type": "code",
   "execution_count": 315,
   "id": "departmental-requirement",
   "metadata": {},
   "outputs": [],
   "source": [
    "class Solution:\n",
    "    def moveZeroes(self, nums: list) -> None:\n",
    "        \"\"\"\n",
    "        Do not return anything, modify nums in-place instead.\n",
    "        \"\"\"\n",
    "        for num in nums:\n",
    "            if num == 0:\n",
    "                nums.remove(num)\n",
    "                nums.append(num)\n",
    "        return nums"
   ]
  },
  {
   "cell_type": "code",
   "execution_count": 316,
   "id": "usual-snake",
   "metadata": {},
   "outputs": [
    {
     "name": "stdout",
     "output_type": "stream",
     "text": [
      "[1, 3, 12, 0, 0]\n"
     ]
    }
   ],
   "source": [
    "if __name__ == '__main__':\n",
    "    nums = [0,1,0,3,12]\n",
    "    obj = Solution()\n",
    "    print(obj.moveZeroes(nums))"
   ]
  },
  {
   "cell_type": "markdown",
   "id": "entire-glance",
   "metadata": {},
   "source": [
    "#### Sort Array By Parity"
   ]
  },
  {
   "cell_type": "code",
   "execution_count": 318,
   "id": "intense-shelf",
   "metadata": {},
   "outputs": [],
   "source": [
    "# NOT in place\n",
    "class Solution:\n",
    "    def sortArrayByParity(self, nums: list) -> list:\n",
    "        even = []\n",
    "        odd=[]\n",
    "        for num in nums:\n",
    "            if num%2 == 0:\n",
    "                even.append(num)\n",
    "            else:\n",
    "                odd.append(num)\n",
    "        even.extend(odd)\n",
    "        return even\n",
    "    \n",
    "# In place solution\n",
    "# class Solution:\n",
    "#     def sortArrayByParity(self, nums: List[int]) -> List[int]:\n",
    "#         j = 0\n",
    "#         for i in range(0, len(nums)):\n",
    "#             if nums[i] % 2 == 0:\n",
    "#                 nums[j], nums[i] = nums[i], nums[j]\n",
    "#                 j += 1\n",
    "#         return nums"
   ]
  },
  {
   "cell_type": "code",
   "execution_count": 319,
   "id": "focused-fountain",
   "metadata": {},
   "outputs": [
    {
     "name": "stdout",
     "output_type": "stream",
     "text": [
      "[2, 4, 3, 1]\n"
     ]
    }
   ],
   "source": [
    "if __name__ == '__main__':\n",
    "    nums = [3,1,2,4]\n",
    "    obj = Solution()\n",
    "    print(obj.sortArrayByParity(nums))"
   ]
  },
  {
   "cell_type": "markdown",
   "id": "sweet-atmosphere",
   "metadata": {},
   "source": [
    "#### Remove Element"
   ]
  },
  {
   "cell_type": "code",
   "execution_count": 320,
   "id": "outstanding-graphic",
   "metadata": {},
   "outputs": [],
   "source": [
    "class Solution:\n",
    "    def removeElement(self, nums: list, val: int) -> int:\n",
    "        while val in nums:\n",
    "            nums.remove(val)\n",
    "        return len(nums)"
   ]
  },
  {
   "cell_type": "code",
   "execution_count": 322,
   "id": "technical-valentine",
   "metadata": {},
   "outputs": [
    {
     "name": "stdout",
     "output_type": "stream",
     "text": [
      "2\n",
      "[2, 2]\n"
     ]
    }
   ],
   "source": [
    "if __name__ == '__main__':\n",
    "    nums = [3,2,2,3]\n",
    "    val = 3\n",
    "    obj = Solution()\n",
    "    print(obj.removeElement(nums,val))\n",
    "    print(nums)"
   ]
  },
  {
   "cell_type": "markdown",
   "id": "unlikely-lingerie",
   "metadata": {},
   "source": [
    "### Conclusion"
   ]
  },
  {
   "cell_type": "markdown",
   "id": "preceding-greene",
   "metadata": {},
   "source": [
    "#### What's Next? ---> Two-Pointer"
   ]
  },
  {
   "cell_type": "code",
   "execution_count": 326,
   "id": "buried-experience",
   "metadata": {},
   "outputs": [
    {
     "name": "stdout",
     "output_type": "stream",
     "text": [
      "13\n"
     ]
    }
   ],
   "source": [
    "# Maximum SubAyyar using Two-Pointer\n",
    "A = [1,9,-1,-2,7,3,-1,2]\n",
    "k = 4\n",
    "mSum = 0\n",
    "for i in range(len(A)-k+1):\n",
    "    wSum = 0\n",
    "    for j in range(i, i+k):\n",
    "        wSum += A[j]\n",
    "    mSum = max(mSum, wSum)\n",
    "print(mSum)"
   ]
  },
  {
   "cell_type": "code",
   "execution_count": 327,
   "id": "rocky-situation",
   "metadata": {},
   "outputs": [
    {
     "name": "stdout",
     "output_type": "stream",
     "text": [
      "13\n"
     ]
    }
   ],
   "source": [
    "# Maximum SubAyyar using Sliding Window\n",
    "A = [1,9,-1,-2,7,3,-1,2]\n",
    "k = 4\n",
    "mSum = 0\n",
    "wSum = 0\n",
    "for i in range(k):\n",
    "    wSum += A[i]\n",
    "for end in range(k, len(A)):\n",
    "    wSum += A[end] - A[end - k]\n",
    "    mSum = max(mSum, wSum)\n",
    "print(mSum)"
   ]
  },
  {
   "cell_type": "markdown",
   "id": "varied-joyce",
   "metadata": {},
   "source": [
    "#### Height Checker"
   ]
  },
  {
   "cell_type": "code",
   "execution_count": null,
   "id": "pretty-danger",
   "metadata": {},
   "outputs": [],
   "source": [
    "class Solution:\n",
    "    def heightChecker(self, heights: List[int]) -> int:\n",
    "        expected = heights[:]\n",
    "        expected.sort()\n",
    "        count = 0\n",
    "        for i in range(len(heights)):\n",
    "            if heights[i] != expected[i]:\n",
    "                count+=1   \n",
    "        return count"
   ]
  },
  {
   "cell_type": "markdown",
   "id": "mobile-norman",
   "metadata": {},
   "source": [
    "#### Third Maximum Number"
   ]
  },
  {
   "cell_type": "code",
   "execution_count": null,
   "id": "accepted-cannon",
   "metadata": {},
   "outputs": [],
   "source": [
    "class Solution:\n",
    "    def thirdMax(self, nums: List[int]) -> int:\n",
    "        nums = list(set(nums))\n",
    "        if len(nums) < 3:\n",
    "            return max(nums)\n",
    "        return sorted(nums)[-3]"
   ]
  },
  {
   "cell_type": "markdown",
   "id": "inner-freeze",
   "metadata": {},
   "source": [
    "#### Find All Numbers Disappeared in an Array"
   ]
  },
  {
   "cell_type": "code",
   "execution_count": null,
   "id": "printable-study",
   "metadata": {},
   "outputs": [],
   "source": [
    "class Solution:\n",
    "    def findDisappearedNumbers(self, nums: List[int]) -> List[int]:\n",
    "        nums_set = set(nums)\n",
    "        result = []\n",
    "        for i in range(1,len(nums)+1):\n",
    "            if i not in nums_set:\n",
    "                result.append(i)\n",
    "        return result"
   ]
  }
 ],
 "metadata": {
  "kernelspec": {
   "display_name": "Python 3 (ipykernel)",
   "language": "python",
   "name": "python3"
  },
  "language_info": {
   "codemirror_mode": {
    "name": "ipython",
    "version": 3
   },
   "file_extension": ".py",
   "mimetype": "text/x-python",
   "name": "python",
   "nbconvert_exporter": "python",
   "pygments_lexer": "ipython3",
   "version": "3.8.8"
  },
  "varInspector": {
   "cols": {
    "lenName": 16,
    "lenType": 16,
    "lenVar": 40
   },
   "kernels_config": {
    "python": {
     "delete_cmd_postfix": "",
     "delete_cmd_prefix": "del ",
     "library": "var_list.py",
     "varRefreshCmd": "print(var_dic_list())"
    },
    "r": {
     "delete_cmd_postfix": ") ",
     "delete_cmd_prefix": "rm(",
     "library": "var_list.r",
     "varRefreshCmd": "cat(var_dic_list()) "
    }
   },
   "position": {
    "height": "738.85px",
    "left": "362.6px",
    "right": "20px",
    "top": "92px",
    "width": "567px"
   },
   "types_to_exclude": [
    "module",
    "function",
    "builtin_function_or_method",
    "instance",
    "_Feature"
   ],
   "window_display": false
  }
 },
 "nbformat": 4,
 "nbformat_minor": 5
}
