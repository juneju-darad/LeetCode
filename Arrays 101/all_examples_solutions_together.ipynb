{
 "cells": [
  {
   "cell_type": "markdown",
   "id": "instructional-story",
   "metadata": {},
   "source": [
    "### Introduction"
   ]
  },
  {
   "cell_type": "markdown",
   "id": "employed-nudist",
   "metadata": {
    "code_folding": []
   },
   "source": [
    "#### What Is an Array?"
   ]
  },
  {
   "cell_type": "code",
   "execution_count": 15,
   "id": "inner-suffering",
   "metadata": {},
   "outputs": [],
   "source": [
    "# DVD Class\n",
    "class DVD:\n",
    "    def __init__(self, name, releaseYear, director):\n",
    "        self.name        = name\n",
    "        self.releaseYear = releaseYear\n",
    "        self. director   = director\n",
    "        \n",
    "    def get_data(self):\n",
    "        print(f'{self.name}, directed by {self.director}, released in {self.releaseYear}')\n",
    "\n",
    "# creating an Array(dynamic) of size 15 to hold DVD's.\n",
    "dvdCollection = [None] * 15"
   ]
  },
  {
   "cell_type": "markdown",
   "id": "understanding-fishing",
   "metadata": {},
   "source": [
    "#### Accessing Elements in Arrays"
   ]
  },
  {
   "cell_type": "code",
   "execution_count": 16,
   "id": "advised-prairie",
   "metadata": {
    "scrolled": true
   },
   "outputs": [],
   "source": [
    "# Firstly, we need to actually create a DVD object for The Avengers.\n",
    "avengersDVD = DVD(\"The Avengers\",2012,\"Joss Whedon\")\n",
    "\n",
    "# Next, we'll put it into the 8th place of the Array. Remember, because we\n",
    "# started numbering from 0, the index we want is 7.\n",
    "dvdCollection[7] = avengersDVD"
   ]
  },
  {
   "cell_type": "code",
   "execution_count": 17,
   "id": "computational-syracuse",
   "metadata": {},
   "outputs": [],
   "source": [
    "# Let's put a few more DVD's in\n",
    "incrediblesDVD = DVD(\"The Incredibles\",2004,\"Brad Bird\")\n",
    "findingDoryDVD = DVD(\"Finding Dory\",2016,\"Andrew Stanton\")\n",
    "lionKingDVD = DVD(\"The Lion King\",2019,\"Jon Favreau\")\n",
    "\n",
    "# Put \"The Incredibles\" into the 4th place: index 3.\n",
    "dvdCollection[3] = incrediblesDVD;\n",
    "\n",
    "# Put \"Finding Dory\" into the 10th place: index 9.\n",
    "dvdCollection[9] = findingDoryDVD;\n",
    "\n",
    "# Put \"The Lion King\" into the 3rd place: index 2.\n",
    "dvdCollection[2] = lionKingDVD;"
   ]
  },
  {
   "cell_type": "code",
   "execution_count": 18,
   "id": "valid-carbon",
   "metadata": {},
   "outputs": [],
   "source": [
    "starWarsDVD = DVD(\"Star Wars\",1977,\"George Lucas\")\n",
    "dvdCollection[3] = starWarsDVD;"
   ]
  },
  {
   "cell_type": "code",
   "execution_count": 19,
   "id": "nonprofit-kidney",
   "metadata": {},
   "outputs": [
    {
     "name": "stdout",
     "output_type": "stream",
     "text": [
      "The Avengers, directed by Joss Whedon, released in 2012\n",
      "None\n",
      "Star Wars, directed by George Lucas, released in 1977\n"
     ]
    }
   ],
   "source": [
    "# Reading Items from an Array\n",
    "# Print out what's in indexes 7, 10, and 3.\n",
    "dvdCollection[7].get_data()\n",
    "print(dvdCollection[10])\n",
    "dvdCollection[3].get_data()"
   ]
  },
  {
   "cell_type": "code",
   "execution_count": 20,
   "id": "meaningful-vertical",
   "metadata": {},
   "outputs": [
    {
     "name": "stdout",
     "output_type": "stream",
     "text": [
      "1\n",
      "4\n",
      "9\n",
      "16\n",
      "25\n",
      "36\n",
      "49\n",
      "64\n",
      "81\n",
      "100\n"
     ]
    }
   ],
   "source": [
    "# Writing Items into an Array with a Loop\n",
    "# Go through each of the Array indexes, from 0 to 9.\n",
    "squareNumbers = [None] * 10\n",
    "# squareNumbers = [] ---> python style: can grows on demand\n",
    "for i in range(10):\n",
    "    squareNumbers[i] = (i+1) * (i+1)\n",
    "    # squareNumbers.append((i+1) * (i+1)) ---> python style\n",
    "\n",
    "# Reading Items from an Array with a Loop\n",
    "for i in range(10):\n",
    "    print(squareNumbers[i])"
   ]
  },
  {
   "cell_type": "markdown",
   "id": "marked-swiss",
   "metadata": {},
   "source": [
    "#### Array Capacity VS Length"
   ]
  },
  {
   "cell_type": "code",
   "execution_count": 21,
   "id": "rising-testament",
   "metadata": {},
   "outputs": [
    {
     "name": "stdout",
     "output_type": "stream",
     "text": [
      "The Array has a capacity of 10\n"
     ]
    }
   ],
   "source": [
    "capacity = len(squareNumbers)\n",
    "print(f\"The Array has a capacity of {capacity}\")"
   ]
  },
  {
   "cell_type": "code",
   "execution_count": 22,
   "id": "continuing-breakfast",
   "metadata": {},
   "outputs": [
    {
     "name": "stdout",
     "output_type": "stream",
     "text": [
      "The Array has a capacity of 6\n",
      "The Array has a length of 3\n"
     ]
    }
   ],
   "source": [
    "# Array Length\n",
    "# Create a new array with a capacity of 6.\n",
    "array = [None] * 6;\n",
    "\n",
    "# Current length is 0, because it has 0 elements.\n",
    "length = 0;\n",
    "\n",
    "# Add 3 items into it.\n",
    "for i in range(3): \n",
    "    array[i] = i * i\n",
    "    # Each time we add an element, the length goes up by one.\n",
    "    length+=1\n",
    "\n",
    "print(f\"The Array has a capacity of {len(array)}\")\n",
    "print(f\"The Array has a length of {length}\")"
   ]
  },
  {
   "cell_type": "markdown",
   "id": "described-gazette",
   "metadata": {},
   "source": [
    "#### Max Consecutive Ones"
   ]
  },
  {
   "cell_type": "code",
   "execution_count": 33,
   "id": "tracked-intellectual",
   "metadata": {},
   "outputs": [],
   "source": [
    "class Solution:\n",
    "    def findMaxConsecutiveOnes(self, nums:list) -> int:\n",
    "        count = 0\n",
    "        ans = 0\n",
    "        for num in nums:\n",
    "            if num == 1:\n",
    "                count+=1\n",
    "                ans = max(ans, count)\n",
    "            else:\n",
    "                count = 0\n",
    "        return ans"
   ]
  },
  {
   "cell_type": "code",
   "execution_count": 48,
   "id": "biological-remains",
   "metadata": {},
   "outputs": [
    {
     "name": "stdout",
     "output_type": "stream",
     "text": [
      "3\n"
     ]
    }
   ],
   "source": [
    "if __name__ == '__main__':\n",
    "    nums = [1,1,0,1,1,1]\n",
    "    obj = Solution()\n",
    "    print(obj.findMaxConsecutiveOnes(nums))"
   ]
  },
  {
   "cell_type": "markdown",
   "id": "settled-showcase",
   "metadata": {},
   "source": [
    "#### Find Numbers with Even Number of Digits"
   ]
  },
  {
   "cell_type": "code",
   "execution_count": 222,
   "id": "apart-seafood",
   "metadata": {},
   "outputs": [],
   "source": [
    "class Solution:\n",
    "    def findNumbers(self, nums: list) -> int:\n",
    "        count = 0\n",
    "        for num in nums:\n",
    "            if len(str(num))%2 == 0:\n",
    "                count += 1\n",
    "        return count\n",
    "# O(n^2)\n",
    "# class Solution:\n",
    "#     def findNumbers(self, nums: list) -> int:\n",
    "#         count = 0\n",
    "#         ans = 0\n",
    "#         for num in nums:\n",
    "#             while num != 0:\n",
    "#                 num = int(num/10)\n",
    "#                 count += 1\n",
    "#             if count%2 == 0:\n",
    "#                 ans += 1\n",
    "#         return ans"
   ]
  },
  {
   "cell_type": "code",
   "execution_count": 223,
   "id": "approved-boundary",
   "metadata": {},
   "outputs": [
    {
     "name": "stdout",
     "output_type": "stream",
     "text": [
      "2\n"
     ]
    }
   ],
   "source": [
    "if __name__ == '__main__':\n",
    "    nums = [12,345,2,6,7896]\n",
    "    obj = Solution()\n",
    "    print(obj.findNumbers(nums))"
   ]
  },
  {
   "cell_type": "markdown",
   "id": "changed-gauge",
   "metadata": {},
   "source": [
    "#### Squares of a Sorted Array"
   ]
  },
  {
   "cell_type": "code",
   "execution_count": 90,
   "id": "raising-samuel",
   "metadata": {},
   "outputs": [],
   "source": [
    "class Solution:\n",
    "    def sortedSquares(self, nums: list) -> list:\n",
    "        for index in range(len(nums)):\n",
    "            nums[index] = nums[index] ** 2\n",
    "        nums.sort()\n",
    "        return nums\n",
    "# higher space complexity\n",
    "# class Solution:\n",
    "#     def sortedSquares(self, nums: list) -> list:\n",
    "#         squired_array = []\n",
    "#         for num in nums:\n",
    "#             squired_array.append(num*num)\n",
    "#         return sorted(squired_array, reverse=False)"
   ]
  },
  {
   "cell_type": "code",
   "execution_count": 91,
   "id": "copyrighted-timer",
   "metadata": {},
   "outputs": [
    {
     "name": "stdout",
     "output_type": "stream",
     "text": [
      "[4, 9, 9, 49, 121]\n"
     ]
    }
   ],
   "source": [
    "if __name__ == '__main__':\n",
    "    nums = [-7,-3,2,3,11]\n",
    "    obj = Solution()\n",
    "    print(obj.sortedSquares(nums))"
   ]
  },
  {
   "cell_type": "markdown",
   "id": "bored-lesbian",
   "metadata": {},
   "source": [
    "### Inserting Items Into an Array"
   ]
  },
  {
   "cell_type": "markdown",
   "id": "beginning-replacement",
   "metadata": {},
   "source": [
    "#### Array Insertions"
   ]
  },
  {
   "cell_type": "code",
   "execution_count": 109,
   "id": "focused-positive",
   "metadata": {},
   "outputs": [
    {
     "name": "stdout",
     "output_type": "stream",
     "text": [
      "Index 0 contains 0\n",
      "Index 1 contains 1\n",
      "Index 2 contains 2\n",
      "Index 3 contains None\n",
      "Index 4 contains None\n",
      "Index 5 contains None\n"
     ]
    }
   ],
   "source": [
    "# Declare an integer array of 6 elements\n",
    "intArray = [None] * 6\n",
    "length = 0\n",
    "\n",
    "for index in range(3):\n",
    "    intArray[index] = index\n",
    "    length+=1\n",
    "\n",
    "# visualise what's happening\n",
    "for index in range(len(intArray)):\n",
    "    print(f'Index {index} contains {intArray[index]}')"
   ]
  },
  {
   "cell_type": "code",
   "execution_count": 110,
   "id": "affected-breath",
   "metadata": {},
   "outputs": [
    {
     "name": "stdout",
     "output_type": "stream",
     "text": [
      "Index 0 contains 0\n",
      "Index 1 contains 1\n",
      "Index 2 contains 2\n",
      "Index 3 contains 10\n",
      "Index 4 contains None\n",
      "Index 5 contains None\n"
     ]
    }
   ],
   "source": [
    "# Insert a new element at the end of the Array. Again,\n",
    "# it's important to ensure that there is enough space\n",
    "# in the array for inserting a new element.\n",
    "intArray[length] = 10\n",
    "length+=1\n",
    "\n",
    "# print the array\n",
    "for index in range(len(intArray)):\n",
    "    print(f'Index {index} contains {intArray[index]}')"
   ]
  },
  {
   "cell_type": "markdown",
   "id": "common-blackjack",
   "metadata": {},
   "source": [
    "#### Inserting at the Start of an Array"
   ]
  },
  {
   "cell_type": "code",
   "execution_count": 111,
   "id": "optional-stereo",
   "metadata": {},
   "outputs": [
    {
     "name": "stdout",
     "output_type": "stream",
     "text": [
      "Index 0 contains 20\n",
      "Index 1 contains 0\n",
      "Index 2 contains 1\n",
      "Index 3 contains 2\n",
      "Index 4 contains 10\n",
      "Index 5 contains None\n"
     ]
    }
   ],
   "source": [
    "# First, we will have to create space for a new element.\n",
    "# We do that by shifting each element one index to the right.\n",
    "# This will firstly move the element at index 3, then 2, then 1, then finally 0.\n",
    "# We need to go backwards to avoid overwriting any elements.\n",
    "for index in range(3,-1,-1):\n",
    "     intArray[index + 1] = intArray[index]\n",
    "        \n",
    "# Now that we have created space for the new element,\n",
    "# we can insert it at the beginning.\n",
    "intArray[0] = 20\n",
    "\n",
    "# print the array\n",
    "for index in range(len(intArray)):\n",
    "    print(f'Index {index} contains {intArray[index]}')"
   ]
  },
  {
   "cell_type": "markdown",
   "id": "royal-flower",
   "metadata": {},
   "source": [
    "#### Inserting Anywhere in the Array"
   ]
  },
  {
   "cell_type": "code",
   "execution_count": 113,
   "id": "american-necessity",
   "metadata": {},
   "outputs": [
    {
     "name": "stdout",
     "output_type": "stream",
     "text": [
      "Index 0 contains 20\n",
      "Index 1 contains 0\n",
      "Index 2 contains 30\n",
      "Index 3 contains 1\n",
      "Index 4 contains 2\n",
      "Index 5 contains 10\n"
     ]
    }
   ],
   "source": [
    "# Say we want to insert the element at index 2.\n",
    "# First, we will have to create space for the new element.\n",
    "for index in range(4,1,-1):\n",
    "     intArray[index + 1] = intArray[index]\n",
    "\n",
    "# Now that we have created space for the new element,\n",
    "# we can insert it at the required index.\n",
    "intArray[2] = 30\n",
    "\n",
    "# print the array\n",
    "for index in range(len(intArray)):\n",
    "    print(f'Index {index} contains {intArray[index]}')"
   ]
  },
  {
   "cell_type": "markdown",
   "id": "occasional-supervision",
   "metadata": {},
   "source": [
    "#### Duplicate Zeros"
   ]
  },
  {
   "cell_type": "code",
   "execution_count": 141,
   "id": "mineral-frederick",
   "metadata": {},
   "outputs": [],
   "source": [
    "class Solution:\n",
    "    def duplicateZeros(self, arr: list) -> None:\n",
    "        \"\"\"\n",
    "        Do not return anything, modify arr in-place instead.\n",
    "        \"\"\"\n",
    "        index = 0\n",
    "        while index < len(arr):\n",
    "            if arr[index] == 0:\n",
    "                arr.insert(index+1,0)\n",
    "                arr.pop()\n",
    "                index += 2\n",
    "            else:\n",
    "                index += 1"
   ]
  },
  {
   "cell_type": "code",
   "execution_count": 142,
   "id": "fourth-wiring",
   "metadata": {},
   "outputs": [
    {
     "name": "stdout",
     "output_type": "stream",
     "text": [
      "[1, 0, 0, 2, 3, 0, 0, 4]\n"
     ]
    }
   ],
   "source": [
    "if __name__ == '__main__':\n",
    "    arr = [1,0,2,3,0,4,5,0]\n",
    "    obj = Solution()\n",
    "    obj.duplicateZeros(arr)\n",
    "    print(arr)"
   ]
  },
  {
   "cell_type": "markdown",
   "id": "romance-shaft",
   "metadata": {},
   "source": [
    "#### Merge Sorted Array"
   ]
  },
  {
   "cell_type": "code",
   "execution_count": 226,
   "id": "respiratory-polymer",
   "metadata": {},
   "outputs": [],
   "source": [
    "class Solution:\n",
    "    def merge(self, nums1: list, m: int, nums2: list, n: int) -> None:\n",
    "        \"\"\"\n",
    "        Do not return anything, modify nums1 in-place instead.\n",
    "        \"\"\"\n",
    "        nums1[m:] = nums2[:]\n",
    "        nums1.sort()\n"
   ]
  },
  {
   "cell_type": "code",
   "execution_count": 228,
   "id": "sophisticated-minimum",
   "metadata": {},
   "outputs": [
    {
     "name": "stdout",
     "output_type": "stream",
     "text": [
      "[1, 2, 2, 3, 5, 6]\n"
     ]
    }
   ],
   "source": [
    "if __name__ == '__main__':\n",
    "    nums1 = [1,2,3,0,0,0]\n",
    "    m = 3\n",
    "    nums2 = [2,5,6]\n",
    "    n = 3\n",
    "    obj = Solution()\n",
    "    obj.merge(nums1,m,nums2,n)\n",
    "    print(nums1)"
   ]
  }
 ],
 "metadata": {
  "kernelspec": {
   "display_name": "Python 3 (ipykernel)",
   "language": "python",
   "name": "python3"
  },
  "language_info": {
   "codemirror_mode": {
    "name": "ipython",
    "version": 3
   },
   "file_extension": ".py",
   "mimetype": "text/x-python",
   "name": "python",
   "nbconvert_exporter": "python",
   "pygments_lexer": "ipython3",
   "version": "3.8.8"
  },
  "varInspector": {
   "cols": {
    "lenName": 16,
    "lenType": 16,
    "lenVar": 40
   },
   "kernels_config": {
    "python": {
     "delete_cmd_postfix": "",
     "delete_cmd_prefix": "del ",
     "library": "var_list.py",
     "varRefreshCmd": "print(var_dic_list())"
    },
    "r": {
     "delete_cmd_postfix": ") ",
     "delete_cmd_prefix": "rm(",
     "library": "var_list.r",
     "varRefreshCmd": "cat(var_dic_list()) "
    }
   },
   "types_to_exclude": [
    "module",
    "function",
    "builtin_function_or_method",
    "instance",
    "_Feature"
   ],
   "window_display": false
  }
 },
 "nbformat": 4,
 "nbformat_minor": 5
}
